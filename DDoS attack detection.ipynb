{
 "cells": [
  {
   "cell_type": "code",
   "execution_count": 2,
   "id": "8c965351",
   "metadata": {},
   "outputs": [],
   "source": [
    "import pandas as pd\n",
    "import numpy as np\n",
    "import matplotlib.pyplot as plt\n",
    "import seaborn as sns\n",
    "import tensorflow as tf\n",
    "from sklearn.model_selection import train_test_split\n",
    "from sklearn.preprocessing import StandardScaler\n",
    "from sklearn.metrics import classification_report, confusion_matrix\n",
    "from tensorflow.keras.models import Sequential\n",
    "from tensorflow.keras.layers import LSTM, GRU, Dense, Dropout\n",
    "from tensorflow.keras.optimizers import Adam\n",
    "from tensorflow.keras.callbacks import EarlyStopping"
   ]
  },
  {
   "cell_type": "code",
   "execution_count": 3,
   "id": "667a957a",
   "metadata": {},
   "outputs": [],
   "source": [
    "file_path = r\"C:\\6th Semester\\Deep Learning\\combined_data.csv\"\n",
    "df = pd.read_csv(file_path)"
   ]
  },
  {
   "cell_type": "code",
   "execution_count": 4,
   "id": "b3a41ab8",
   "metadata": {},
   "outputs": [
    {
     "data": {
      "text/html": [
       "<div>\n",
       "<style scoped>\n",
       "    .dataframe tbody tr th:only-of-type {\n",
       "        vertical-align: middle;\n",
       "    }\n",
       "\n",
       "    .dataframe tbody tr th {\n",
       "        vertical-align: top;\n",
       "    }\n",
       "\n",
       "    .dataframe thead th {\n",
       "        text-align: right;\n",
       "    }\n",
       "</style>\n",
       "<table border=\"1\" class=\"dataframe\">\n",
       "  <thead>\n",
       "    <tr style=\"text-align: right;\">\n",
       "      <th></th>\n",
       "      <th>flow_duration</th>\n",
       "      <th>Header_Length</th>\n",
       "      <th>Protocol Type</th>\n",
       "      <th>Duration</th>\n",
       "      <th>Rate</th>\n",
       "      <th>Srate</th>\n",
       "      <th>Drate</th>\n",
       "      <th>fin_flag_number</th>\n",
       "      <th>syn_flag_number</th>\n",
       "      <th>rst_flag_number</th>\n",
       "      <th>...</th>\n",
       "      <th>Std</th>\n",
       "      <th>Tot size</th>\n",
       "      <th>IAT</th>\n",
       "      <th>Number</th>\n",
       "      <th>Magnitue</th>\n",
       "      <th>Radius</th>\n",
       "      <th>Covariance</th>\n",
       "      <th>Variance</th>\n",
       "      <th>Weight</th>\n",
       "      <th>label</th>\n",
       "    </tr>\n",
       "  </thead>\n",
       "  <tbody>\n",
       "    <tr>\n",
       "      <th>0</th>\n",
       "      <td>0.007583</td>\n",
       "      <td>56.61</td>\n",
       "      <td>6.11</td>\n",
       "      <td>64.64</td>\n",
       "      <td>2.747407</td>\n",
       "      <td>2.747407</td>\n",
       "      <td>0.0</td>\n",
       "      <td>0.0</td>\n",
       "      <td>0.0</td>\n",
       "      <td>0.0</td>\n",
       "      <td>...</td>\n",
       "      <td>3.991182</td>\n",
       "      <td>54.67</td>\n",
       "      <td>8.303355e+07</td>\n",
       "      <td>9.5</td>\n",
       "      <td>10.601583</td>\n",
       "      <td>5.649454</td>\n",
       "      <td>89.956773</td>\n",
       "      <td>0.19</td>\n",
       "      <td>141.55</td>\n",
       "      <td>DDoS-TCP_Flood</td>\n",
       "    </tr>\n",
       "    <tr>\n",
       "      <th>1</th>\n",
       "      <td>0.000000</td>\n",
       "      <td>54.00</td>\n",
       "      <td>6.00</td>\n",
       "      <td>64.00</td>\n",
       "      <td>1.355467</td>\n",
       "      <td>1.355467</td>\n",
       "      <td>0.0</td>\n",
       "      <td>1.0</td>\n",
       "      <td>0.0</td>\n",
       "      <td>1.0</td>\n",
       "      <td>...</td>\n",
       "      <td>0.000000</td>\n",
       "      <td>54.00</td>\n",
       "      <td>8.334938e+07</td>\n",
       "      <td>9.5</td>\n",
       "      <td>10.392305</td>\n",
       "      <td>0.000000</td>\n",
       "      <td>0.000000</td>\n",
       "      <td>0.00</td>\n",
       "      <td>141.55</td>\n",
       "      <td>DDoS-RSTFINFlood</td>\n",
       "    </tr>\n",
       "    <tr>\n",
       "      <th>2</th>\n",
       "      <td>0.026013</td>\n",
       "      <td>8096.66</td>\n",
       "      <td>16.89</td>\n",
       "      <td>63.78</td>\n",
       "      <td>35366.177892</td>\n",
       "      <td>35366.177892</td>\n",
       "      <td>0.0</td>\n",
       "      <td>0.0</td>\n",
       "      <td>0.0</td>\n",
       "      <td>0.0</td>\n",
       "      <td>...</td>\n",
       "      <td>0.035299</td>\n",
       "      <td>50.08</td>\n",
       "      <td>8.310301e+07</td>\n",
       "      <td>9.5</td>\n",
       "      <td>10.000840</td>\n",
       "      <td>0.050526</td>\n",
       "      <td>0.063823</td>\n",
       "      <td>0.02</td>\n",
       "      <td>141.55</td>\n",
       "      <td>DDoS-UDP_Flood</td>\n",
       "    </tr>\n",
       "    <tr>\n",
       "      <th>3</th>\n",
       "      <td>0.000000</td>\n",
       "      <td>0.00</td>\n",
       "      <td>1.00</td>\n",
       "      <td>64.00</td>\n",
       "      <td>36.461746</td>\n",
       "      <td>36.461746</td>\n",
       "      <td>0.0</td>\n",
       "      <td>0.0</td>\n",
       "      <td>0.0</td>\n",
       "      <td>0.0</td>\n",
       "      <td>...</td>\n",
       "      <td>0.000000</td>\n",
       "      <td>42.00</td>\n",
       "      <td>8.312817e+07</td>\n",
       "      <td>9.5</td>\n",
       "      <td>9.165151</td>\n",
       "      <td>0.000000</td>\n",
       "      <td>0.000000</td>\n",
       "      <td>0.00</td>\n",
       "      <td>141.55</td>\n",
       "      <td>DDoS-ICMP_Flood</td>\n",
       "    </tr>\n",
       "    <tr>\n",
       "      <th>4</th>\n",
       "      <td>0.011897</td>\n",
       "      <td>628.91</td>\n",
       "      <td>5.72</td>\n",
       "      <td>60.55</td>\n",
       "      <td>19.894312</td>\n",
       "      <td>19.894312</td>\n",
       "      <td>0.0</td>\n",
       "      <td>0.0</td>\n",
       "      <td>0.0</td>\n",
       "      <td>0.0</td>\n",
       "      <td>...</td>\n",
       "      <td>488.244700</td>\n",
       "      <td>791.22</td>\n",
       "      <td>8.333535e+07</td>\n",
       "      <td>9.5</td>\n",
       "      <td>36.995287</td>\n",
       "      <td>689.931968</td>\n",
       "      <td>278334.787869</td>\n",
       "      <td>0.95</td>\n",
       "      <td>141.55</td>\n",
       "      <td>DDoS-ACK_Fragmentation</td>\n",
       "    </tr>\n",
       "  </tbody>\n",
       "</table>\n",
       "<p>5 rows × 47 columns</p>\n",
       "</div>"
      ],
      "text/plain": [
       "   flow_duration  Header_Length  Protocol Type  Duration          Rate  \\\n",
       "0       0.007583          56.61           6.11     64.64      2.747407   \n",
       "1       0.000000          54.00           6.00     64.00      1.355467   \n",
       "2       0.026013        8096.66          16.89     63.78  35366.177892   \n",
       "3       0.000000           0.00           1.00     64.00     36.461746   \n",
       "4       0.011897         628.91           5.72     60.55     19.894312   \n",
       "\n",
       "          Srate  Drate  fin_flag_number  syn_flag_number  rst_flag_number  \\\n",
       "0      2.747407    0.0              0.0              0.0              0.0   \n",
       "1      1.355467    0.0              1.0              0.0              1.0   \n",
       "2  35366.177892    0.0              0.0              0.0              0.0   \n",
       "3     36.461746    0.0              0.0              0.0              0.0   \n",
       "4     19.894312    0.0              0.0              0.0              0.0   \n",
       "\n",
       "   ...         Std  Tot size           IAT  Number   Magnitue      Radius  \\\n",
       "0  ...    3.991182     54.67  8.303355e+07     9.5  10.601583    5.649454   \n",
       "1  ...    0.000000     54.00  8.334938e+07     9.5  10.392305    0.000000   \n",
       "2  ...    0.035299     50.08  8.310301e+07     9.5  10.000840    0.050526   \n",
       "3  ...    0.000000     42.00  8.312817e+07     9.5   9.165151    0.000000   \n",
       "4  ...  488.244700    791.22  8.333535e+07     9.5  36.995287  689.931968   \n",
       "\n",
       "      Covariance  Variance  Weight                   label  \n",
       "0      89.956773      0.19  141.55          DDoS-TCP_Flood  \n",
       "1       0.000000      0.00  141.55        DDoS-RSTFINFlood  \n",
       "2       0.063823      0.02  141.55          DDoS-UDP_Flood  \n",
       "3       0.000000      0.00  141.55         DDoS-ICMP_Flood  \n",
       "4  278334.787869      0.95  141.55  DDoS-ACK_Fragmentation  \n",
       "\n",
       "[5 rows x 47 columns]"
      ]
     },
     "execution_count": 4,
     "metadata": {},
     "output_type": "execute_result"
    }
   ],
   "source": [
    "df.head()"
   ]
  },
  {
   "cell_type": "code",
   "execution_count": 5,
   "id": "e627a464",
   "metadata": {},
   "outputs": [
    {
     "name": "stdout",
     "output_type": "stream",
     "text": [
      "label\n",
      "1    2042081\n",
      "0      66228\n",
      "Name: count, dtype: int64\n"
     ]
    }
   ],
   "source": [
    "# Map labels: 1 for any DDoS attack, 0 for BenignTraffic\n",
    "df['label'] = df['label'].apply(lambda x: 0 if x == 'BenignTraffic' else 1)\n",
    "\n",
    "# Verify the new class distribution\n",
    "print(df['label'].value_counts())"
   ]
  },
  {
   "cell_type": "code",
   "execution_count": 6,
   "id": "2fd10a3c",
   "metadata": {},
   "outputs": [
    {
     "name": "stdout",
     "output_type": "stream",
     "text": [
      "label\n",
      "0    66228\n",
      "1    66228\n",
      "Name: count, dtype: int64\n"
     ]
    }
   ],
   "source": [
    "# Separate the two classes\n",
    "df_ddos = df[df['label'] == 1]\n",
    "df_benign = df[df['label'] == 0]\n",
    "\n",
    "# Undersample DDoS to match benign class count\n",
    "df_ddos_sampled = df_ddos.sample(n=len(df_benign), random_state=42)\n",
    "\n",
    "# Combine the two\n",
    "df_balanced = pd.concat([df_ddos_sampled, df_benign], axis=0)\n",
    "\n",
    "# Shuffle the data\n",
    "df_balanced = df_balanced.sample(frac=1, random_state=42).reset_index(drop=True)\n",
    "\n",
    "# Check new distribution\n",
    "print(df_balanced['label'].value_counts())"
   ]
  },
  {
   "cell_type": "code",
   "execution_count": 7,
   "id": "174c7afd",
   "metadata": {},
   "outputs": [],
   "source": [
    "X = df_balanced.drop(columns=['label'])\n",
    "y = df_balanced['label']"
   ]
  },
  {
   "cell_type": "code",
   "execution_count": 8,
   "id": "e790a7f8",
   "metadata": {},
   "outputs": [],
   "source": [
    "# Normalize features\n",
    "scaler = StandardScaler()\n",
    "X_scaled = scaler.fit_transform(X)\n",
    "\n",
    "# Train-test split (80% train, 20% test)\n",
    "X_train, X_test, y_train, y_test = train_test_split(X_scaled, y, test_size=0.2, random_state=42, stratify=y)"
   ]
  },
  {
   "cell_type": "code",
   "execution_count": 9,
   "id": "22e62dfe",
   "metadata": {},
   "outputs": [],
   "source": [
    "# Reshape for LSTM & GRU input (samples, time steps, features)\n",
    "X_train_reshaped = X_train.reshape((X_train.shape[0], 1, X_train.shape[1]))\n",
    "X_test_reshaped = X_test.reshape((X_test.shape[0], 1, X_test.shape[1]))"
   ]
  },
  {
   "cell_type": "code",
   "execution_count": 10,
   "id": "c5a0d929",
   "metadata": {},
   "outputs": [
    {
     "name": "stdout",
     "output_type": "stream",
     "text": [
      "✅ Data preprocessed successfully!\n",
      "X_train_reshaped shape: (105964, 1, 46)\n",
      "y_train shape: (105964,)\n",
      "✅ Using strategy: <tensorflow.python.distribute.distribute_lib._DefaultDistributionStrategy object at 0x00000283B341ADE0>\n",
      "[LogicalDevice(name='/device:CPU:0', device_type='CPU')]\n"
     ]
    }
   ],
   "source": [
    "print(\"✅ Data preprocessed successfully!\")\n",
    "print(\"X_train_reshaped shape:\", X_train_reshaped.shape)\n",
    "print(\"y_train shape:\", y_train.shape)\n",
    "# Initialize strategy for CPU/GPU\n",
    "strategy = tf.distribute.get_strategy()\n",
    "print(\"✅ Using strategy:\", strategy)\n",
    "print(tf.config.list_logical_devices())"
   ]
  },
  {
   "cell_type": "code",
   "execution_count": 20,
   "id": "bf7ba867",
   "metadata": {},
   "outputs": [
    {
     "name": "stdout",
     "output_type": "stream",
     "text": [
      "Epoch 1/5\n",
      "\u001b[1m411/411\u001b[0m \u001b[32m━━━━━━━━━━━━━━━━━━━━\u001b[0m\u001b[37m\u001b[0m \u001b[1m13s\u001b[0m 11ms/step - accuracy: 0.9346 - loss: 0.2430 - val_accuracy: 0.9989 - val_loss: 0.0058\n",
      "Epoch 2/5\n",
      "\u001b[1m411/411\u001b[0m \u001b[32m━━━━━━━━━━━━━━━━━━━━\u001b[0m\u001b[37m\u001b[0m \u001b[1m3s\u001b[0m 7ms/step - accuracy: 0.9992 - loss: 0.0049 - val_accuracy: 0.9992 - val_loss: 0.0024\n",
      "Epoch 3/5\n",
      "\u001b[1m411/411\u001b[0m \u001b[32m━━━━━━━━━━━━━━━━━━━━\u001b[0m\u001b[37m\u001b[0m \u001b[1m3s\u001b[0m 6ms/step - accuracy: 0.9997 - loss: 0.0021 - val_accuracy: 0.9997 - val_loss: 0.0013\n",
      "Epoch 4/5\n",
      "\u001b[1m411/411\u001b[0m \u001b[32m━━━━━━━━━━━━━━━━━━━━\u001b[0m\u001b[37m\u001b[0m \u001b[1m3s\u001b[0m 7ms/step - accuracy: 0.9997 - loss: 0.0014 - val_accuracy: 0.9998 - val_loss: 8.5895e-04\n",
      "Epoch 5/5\n",
      "\u001b[1m411/411\u001b[0m \u001b[32m━━━━━━━━━━━━━━━━━━━━\u001b[0m\u001b[37m\u001b[0m \u001b[1m3s\u001b[0m 8ms/step - accuracy: 0.9998 - loss: 8.2450e-04 - val_accuracy: 0.9998 - val_loss: 9.4063e-04\n",
      "\u001b[1m828/828\u001b[0m \u001b[32m━━━━━━━━━━━━━━━━━━━━\u001b[0m\u001b[37m\u001b[0m \u001b[1m3s\u001b[0m 4ms/step - accuracy: 0.9999 - loss: 5.8545e-04\n",
      "✅ Test Accuracy: 0.9998\n",
      "✅ Test Loss: 0.0009\n"
     ]
    }
   ],
   "source": [
    "# Define early stopping\n",
    "early_stopping = EarlyStopping(monitor='val_loss', patience=3, restore_best_weights=True)\n",
    "\n",
    "# Build the model\n",
    "model = Sequential([\n",
    "    LSTM(32, return_sequences=True, input_shape=(1, X_train_reshaped.shape[2])),\n",
    "    GRU(32),\n",
    "    Dropout(0.5),\n",
    "    Dense(32, activation='relu'),\n",
    "    Dropout(0.5),\n",
    "    Dense(1, activation='sigmoid')  # Binary classification\n",
    "])\n",
    "\n",
    "# Compile the model\n",
    "model.compile(optimizer=Adam(learning_rate=0.001), loss='binary_crossentropy', metrics=['accuracy'])\n",
    "\n",
    "# Train the model\n",
    "history = model.fit(\n",
    "    X_train_reshaped, y_train,\n",
    "    epochs=5,\n",
    "    validation_data=(X_test_reshaped, y_test),\n",
    "    callbacks=[early_stopping],\n",
    "    batch_size= 258\n",
    ")\n",
    "\n",
    "# Evaluate the model\n",
    "test_loss, test_acc = model.evaluate(X_test_reshaped, y_test)\n",
    "print(f\"✅ Test Accuracy: {test_acc:.4f}\")\n",
    "print(f\"✅ Test Loss: {test_loss:.4f}\")"
   ]
  },
  {
   "cell_type": "code",
   "execution_count": 12,
   "id": "3babce2a",
   "metadata": {},
   "outputs": [
    {
     "name": "stdout",
     "output_type": "stream",
     "text": [
      "\u001b[1m828/828\u001b[0m \u001b[32m━━━━━━━━━━━━━━━━━━━━\u001b[0m\u001b[37m\u001b[0m \u001b[1m3s\u001b[0m 3ms/step - accuracy: 0.9998 - loss: 5.4568e-04\n",
      "✅ Model Test Accuracy: 0.9998\n",
      "✅ Model Test Loss: 0.0007\n",
      "\u001b[1m828/828\u001b[0m \u001b[32m━━━━━━━━━━━━━━━━━━━━\u001b[0m\u001b[37m\u001b[0m \u001b[1m3s\u001b[0m 3ms/step\n"
     ]
    }
   ],
   "source": [
    "# Evaluate the model on the test set\n",
    "test_loss, test_acc = model.evaluate(X_test_reshaped, y_test)\n",
    "print(f\"✅ Model Test Accuracy: {test_acc:.4f}\")\n",
    "print(f\"✅ Model Test Loss: {test_loss:.4f}\")\n",
    "# Get predictions\n",
    "y_pred = (model.predict(X_test_reshaped) > 0.5).astype(\"int32\")"
   ]
  },
  {
   "cell_type": "code",
   "execution_count": 18,
   "id": "32b2e070",
   "metadata": {},
   "outputs": [
    {
     "name": "stdout",
     "output_type": "stream",
     "text": [
      "Classification Report:\n",
      "               precision    recall  f1-score   support\n",
      "\n",
      "           0       1.00      1.00      1.00     13246\n",
      "           1       1.00      1.00      1.00     13246\n",
      "\n",
      "    accuracy                           1.00     26492\n",
      "   macro avg       1.00      1.00      1.00     26492\n",
      "weighted avg       1.00      1.00      1.00     26492\n",
      "\n"
     ]
    }
   ],
   "source": [
    "# Classification Report\n",
    "print(\"Classification Report:\\n\", classification_report(y_test, y_pred))\n",
    "# Confusion Matrix\n",
    "conf_matrix = confusion_matrix(y_test, y_pred)"
   ]
  },
  {
   "cell_type": "code",
   "execution_count": 14,
   "id": "ad44729b",
   "metadata": {},
   "outputs": [
    {
     "data": {
      "image/png": "[encoded data removed]",
      "text/plain": [
       "<Figure size 1200x600 with 2 Axes>"
      ]
     },
     "metadata": {},
     "output_type": "display_data"
    }
   ],
   "source": [
    "# Plot training history\n",
    "plt.figure(figsize=(12, 6))\n",
    "plt.subplot(1, 2, 1)\n",
    "plt.plot(history.history['accuracy'], label='Train Accuracy')\n",
    "plt.plot(history.history['val_accuracy'], label='Val Accuracy')\n",
    "plt.title('Training and Validation Accuracy')\n",
    "plt.xlabel('Epochs')\n",
    "plt.ylabel('Accuracy')\n",
    "plt.legend()\n",
    "plt.subplot(1, 2, 2)\n",
    "plt.plot(history.history['loss'], label='Train Loss')\n",
    "plt.plot(history.history['val_loss'], label='Val Loss')\n",
    "plt.title('Training and Validation Loss')\n",
    "plt.xlabel('Epochs')\n",
    "plt.ylabel('Loss')\n",
    "plt.legend()\n",
    "\n",
    "plt.tight_layout()\n",
    "plt.show()"
   ]
  },
  {
   "cell_type": "code",
   "execution_count": 15,
   "id": "e1f36810",
   "metadata": {},
   "outputs": [
    {
     "name": "stderr",
     "output_type": "stream",
     "text": [
      "WARNING:absl:You are saving your model as an HDF5 file via `model.save()` or `keras.saving.save_model(model)`. This file format is considered legacy. We recommend using instead the native Keras format, e.g. `model.save('my_model.keras')` or `keras.saving.save_model(model, 'my_model.keras')`. \n"
     ]
    },
    {
     "name": "stdout",
     "output_type": "stream",
     "text": [
      "✅ Model trained and saved successfully!\n"
     ]
    }
   ],
   "source": [
    "# Save the model\n",
    "model.save('my_model.h5')\n",
    "print(\"✅ Model trained and saved successfully!\")"
   ]
  },
  {
   "cell_type": "code",
   "execution_count": 16,
   "id": "9b23e0b9",
   "metadata": {},
   "outputs": [
    {
     "name": "stdout",
     "output_type": "stream",
     "text": [
      "Total entries in the confusion matrix: 26492\n",
      "\u001b[1m828/828\u001b[0m \u001b[32m━━━━━━━━━━━━━━━━━━━━\u001b[0m\u001b[37m\u001b[0m \u001b[1m3s\u001b[0m 4ms/step - accuracy: 0.9998 - loss: 5.4568e-04\n",
      "Test Accuracy: 0.9998\n",
      "Test Loss: 0.0007\n"
     ]
    }
   ],
   "source": [
    "# Display total confusion matrix entries\n",
    "total_entries = conf_matrix.sum()\n",
    "print(f\"Total entries in the confusion matrix: {total_entries}\")\n",
    "test_loss, test_acc = model.evaluate(X_test_reshaped, y_test)\n",
    "print(f\"Test Accuracy: {test_acc:.4f}\")\n",
    "print(f\"Test Loss: {test_loss:.4f}\")"
   ]
  },
  {
   "cell_type": "code",
   "execution_count": null,
   "id": "9f8b5c73",
   "metadata": {},
   "outputs": [],
   "source": []
  }
 ],
 "metadata": {
  "kernelspec": {
   "display_name": "Python 3",
   "language": "python",
   "name": "python3"
  },
  "language_info": {
   "codemirror_mode": {
    "name": "ipython",
    "version": 3
   },
   "file_extension": ".py",
   "mimetype": "text/x-python",
   "name": "python",
   "nbconvert_exporter": "python",
   "pygments_lexer": "ipython3",
   "version": "3.12.2"
  }
 },
 "nbformat": 4,
 "nbformat_minor": 5
}
